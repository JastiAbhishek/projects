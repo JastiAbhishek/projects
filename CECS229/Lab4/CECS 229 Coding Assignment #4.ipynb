{
 "cells": [
  {
   "cell_type": "markdown",
   "metadata": {},
   "source": [
    "# CECS 229 Coding Assignment #4 - Answer Key\n",
    "\n",
    "#### Due Date: \n",
    "\n",
    "Sunday, 3/20 @ 11:59 PM\n",
    "\n",
    "#### Submission Instructions:\n",
    "\n",
    "To receive credit for this assignment you must submit the following by the due date:\n",
    "\n",
    "1. **To the BB Dropbox Folder:** this completed .ipynb file\n",
    "\n",
    "2. **To CodePost:** this file converted to a Python script named `ca4.py`\n",
    "\n",
    "#### Objectives:\n",
    "\n",
    "1. Apply vector operations to translate, scale, and rotate a set of points representing an image.\n",
    "2. Perform various operations with or on vectors: addition, subtraction, dot product, norm.\n",
    "\n",
    "\n",
    "--------------------------------------------------------\n",
    "\n",
    "#### Needed Import Statements"
   ]
  },
  {
   "cell_type": "code",
   "execution_count": 11,
   "metadata": {},
   "outputs": [
    {
     "ename": "ModuleNotFoundError",
     "evalue": "No module named 'plotting'",
     "output_type": "error",
     "traceback": [
      "\u001b[1;31m---------------------------------------------------------------------------\u001b[0m",
      "\u001b[1;31mModuleNotFoundError\u001b[0m                       Traceback (most recent call last)",
      "\u001b[1;32m~\\AppData\\Local\\Temp/ipykernel_9384/2968140761.py\u001b[0m in \u001b[0;36m<module>\u001b[1;34m\u001b[0m\n\u001b[0;32m      1\u001b[0m \u001b[1;31m# MAKE SURE TO RUN THIS CELL BEFORE RUNNING ANY TESTER CELLS\u001b[0m\u001b[1;33m\u001b[0m\u001b[1;33m\u001b[0m\u001b[0m\n\u001b[0;32m      2\u001b[0m \u001b[1;32mimport\u001b[0m \u001b[0mmath\u001b[0m\u001b[1;33m\u001b[0m\u001b[1;33m\u001b[0m\u001b[0m\n\u001b[1;32m----> 3\u001b[1;33m \u001b[1;32mfrom\u001b[0m \u001b[0mplotting\u001b[0m \u001b[1;32mimport\u001b[0m \u001b[0mplot\u001b[0m\u001b[1;33m\u001b[0m\u001b[1;33m\u001b[0m\u001b[0m\n\u001b[0m\u001b[0;32m      4\u001b[0m \u001b[1;32mimport\u001b[0m \u001b[0mimage\u001b[0m\u001b[1;33m\u001b[0m\u001b[1;33m\u001b[0m\u001b[0m\n",
      "\u001b[1;31mModuleNotFoundError\u001b[0m: No module named 'plotting'"
     ]
    }
   ],
   "source": [
    "# MAKE SURE TO RUN THIS CELL BEFORE RUNNING ANY TESTER CELLS\n",
    "import math\n",
    "from plotting import plot\n",
    "import image"
   ]
  },
  {
   "cell_type": "markdown",
   "metadata": {},
   "source": [
    "#### Problem 1:\n",
    "\n",
    "Create a function `translate(S, z0)` that translates the points in the input set $S$ by $z_0 = a_0 + b_0 i$.  The function should satisfy the following:\n",
    "\n",
    "1. INPUT: \n",
    "    * `S` - set S\n",
    "    * `z0` - complex number\n",
    "2. OUT:\n",
    "    * `T` - set T consisting of points in S translated by $z_0$"
   ]
  },
  {
   "cell_type": "code",
   "execution_count": 6,
   "metadata": {},
   "outputs": [],
   "source": [
    "def translate(S, z0):\n",
    "    T = set()\n",
    "    for i in S:\n",
    "        i = i + z0\n",
    "        T.add(i)\n",
    "    return T\n",
    "    "
   ]
  },
  {
   "cell_type": "code",
   "execution_count": 7,
   "metadata": {},
   "outputs": [
    {
     "name": "stdout",
     "output_type": "stream",
     "text": [
      "ORGINAL VALUES: {(1.75+1j), (2.25+1j), (2.5+1j), (2+1j), (2+2j), (3+2j), (2.75+1j), (3+1j), (3.25+1j)}\n"
     ]
    },
    {
     "ename": "NameError",
     "evalue": "name 'plot' is not defined",
     "output_type": "error",
     "traceback": [
      "\u001b[1;31m---------------------------------------------------------------------------\u001b[0m",
      "\u001b[1;31mNameError\u001b[0m                                 Traceback (most recent call last)",
      "\u001b[1;32m~\\AppData\\Local\\Temp/ipykernel_9384/2897043596.py\u001b[0m in \u001b[0;36m<module>\u001b[1;34m\u001b[0m\n\u001b[0;32m      8\u001b[0m \u001b[0mprint\u001b[0m\u001b[1;33m(\u001b[0m\u001b[1;34m\"ORGINAL VALUES:\"\u001b[0m\u001b[1;33m,\u001b[0m \u001b[0mS\u001b[0m\u001b[1;33m)\u001b[0m\u001b[1;33m\u001b[0m\u001b[1;33m\u001b[0m\u001b[0m\n\u001b[0;32m      9\u001b[0m \u001b[1;33m\u001b[0m\u001b[0m\n\u001b[1;32m---> 10\u001b[1;33m \u001b[0mplot\u001b[0m\u001b[1;33m(\u001b[0m\u001b[1;33m[\u001b[0m\u001b[1;33m(\u001b[0m\u001b[0mS\u001b[0m\u001b[1;33m,\u001b[0m \u001b[1;34m'black'\u001b[0m\u001b[1;33m)\u001b[0m\u001b[1;33m]\u001b[0m\u001b[1;33m,\u001b[0m \u001b[1;36m10\u001b[0m\u001b[1;33m,\u001b[0m \u001b[0mtitle\u001b[0m \u001b[1;33m=\u001b[0m \u001b[1;34m\"Original Values\"\u001b[0m\u001b[1;33m)\u001b[0m\u001b[1;33m\u001b[0m\u001b[1;33m\u001b[0m\u001b[0m\n\u001b[0m\u001b[0;32m     11\u001b[0m \u001b[1;33m\u001b[0m\u001b[0m\n\u001b[0;32m     12\u001b[0m \u001b[0mT1\u001b[0m \u001b[1;33m=\u001b[0m \u001b[0mtranslate\u001b[0m\u001b[1;33m(\u001b[0m\u001b[0mS\u001b[0m\u001b[1;33m,\u001b[0m \u001b[1;33m-\u001b[0m\u001b[1;36m3\u001b[0m\u001b[1;33m-\u001b[0m\u001b[1;36m2j\u001b[0m\u001b[1;33m)\u001b[0m\u001b[1;33m\u001b[0m\u001b[1;33m\u001b[0m\u001b[0m\n",
      "\u001b[1;31mNameError\u001b[0m: name 'plot' is not defined"
     ]
    }
   ],
   "source": [
    "\"\"\"\n",
    "TESTER CELL FOR translate()\n",
    "\"\"\"\n",
    "\n",
    "S = {2 + 2j, 3 + 2j , 1.75 + 1j, 2 + 1j, 2.25 + 1j, 2.5 + 1j, 2.75 + 1j, 3 + 1j, 3.25 + 1j}\n",
    "\n",
    "\n",
    "print(\"ORGINAL VALUES:\", S)\n",
    "\n",
    "plot([(S, 'black')], 10, title = \"Original Values\")\n",
    "\n",
    "T1 = translate(S, -3-2j)\n",
    "T2 = translate(S, 3-2j)\n",
    "T3 = translate(S, -3+2j)\n",
    "T4 = translate(S, 3+2j)\n",
    "\n",
    "print(\"SHIFT LEFT 3, DOWN 2:\", T1)\n",
    "print(\"Expected: {0j, (-0.25-1j), (-1+0j), -1j, (-1-1j), (-1.25-1j), (-0.75-1j), (0.25-1j), (-0.5-1j)}\\n\")\n",
    "print(\"SHIFT RIGHT 3, DOWN 2:\", T2)\n",
    "print(\"Expected: {(6-1j), (6.25-1j), (5+0j), (6+0j), (5-1j), (5.75-1j), (5.5-1j), (4.75-1j), (5.25-1j)}\\n\")\n",
    "print(\"SHIFT LEFT 3, UP 2:\", T3)\n",
    "print(\"Expected: {(-1+3j), (-1.25+3j), (-0.75+3j), (-1+4j), (-0.5+3j), 4j, (-0.25+3j), 3j, (0.25+3j)}\\n\")\n",
    "print(\"SHIFT RIGHT 3, UP 2:\", T4)\n",
    "print(\"Expected: {(4.75+3j), (5.5+3j), (5.25+3j), (5+3j), (5+4j), (6+4j), (5.75+3j), (6+3j), (6.25+3j)}\\n\")\n",
    "\n",
    "\n",
    "plot([(S, 'black'), (T1, 'red'), (T2, 'green'), (T3, 'orange'), (T4, 'blue')], 10, title = \"Original + Shifted Values\")"
   ]
  },
  {
   "cell_type": "code",
   "execution_count": 10,
   "metadata": {},
   "outputs": [
    {
     "ename": "NameError",
     "evalue": "name 'image' is not defined",
     "output_type": "error",
     "traceback": [
      "\u001b[1;31m---------------------------------------------------------------------------\u001b[0m",
      "\u001b[1;31mNameError\u001b[0m                                 Traceback (most recent call last)",
      "\u001b[1;32m~\\AppData\\Local\\Temp/ipykernel_9384/1156342861.py\u001b[0m in \u001b[0;36m<module>\u001b[1;34m\u001b[0m\n\u001b[0;32m      2\u001b[0m \u001b[0mTESTER\u001b[0m \u001b[0mCELL\u001b[0m \u001b[0mFOR\u001b[0m \u001b[0mtranslate\u001b[0m\u001b[1;33m(\u001b[0m\u001b[1;33m)\u001b[0m\u001b[1;33m\u001b[0m\u001b[1;33m\u001b[0m\u001b[0m\n\u001b[0;32m      3\u001b[0m \"\"\"\n\u001b[1;32m----> 4\u001b[1;33m \u001b[0mimg\u001b[0m \u001b[1;33m=\u001b[0m \u001b[0mimage\u001b[0m\u001b[1;33m.\u001b[0m\u001b[0mfile2image\u001b[0m\u001b[1;33m(\u001b[0m\u001b[1;34m'img01.png'\u001b[0m\u001b[1;33m)\u001b[0m\u001b[1;33m\u001b[0m\u001b[1;33m\u001b[0m\u001b[0m\n\u001b[0m\u001b[0;32m      5\u001b[0m \u001b[0mgray_img\u001b[0m \u001b[1;33m=\u001b[0m \u001b[0mimage\u001b[0m\u001b[1;33m.\u001b[0m\u001b[0mcolor2gray\u001b[0m\u001b[1;33m(\u001b[0m\u001b[0mimg\u001b[0m\u001b[1;33m)\u001b[0m\u001b[1;33m\u001b[0m\u001b[1;33m\u001b[0m\u001b[0m\n\u001b[0;32m      6\u001b[0m \u001b[0mcomplex_img\u001b[0m \u001b[1;33m=\u001b[0m \u001b[0mimage\u001b[0m\u001b[1;33m.\u001b[0m\u001b[0mgray2complex\u001b[0m\u001b[1;33m(\u001b[0m\u001b[0mgray_img\u001b[0m\u001b[1;33m)\u001b[0m\u001b[1;33m\u001b[0m\u001b[1;33m\u001b[0m\u001b[0m\n",
      "\u001b[1;31mNameError\u001b[0m: name 'image' is not defined"
     ]
    }
   ],
   "source": [
    "\"\"\"\n",
    "TESTER CELL FOR translate()\n",
    "\"\"\"\n",
    "img = image.file2image('img01.png')\n",
    "gray_img = image.color2gray(img)\n",
    "complex_img = image.gray2complex(gray_img)\n",
    "translated_img = translate(complex_img, -200 + 0j)\n",
    "plot([(complex_img, 'black')], 200, title = \"Original Image\")\n",
    "plot([(translated_img, 'black')], 200, title = \"Translated Image\")"
   ]
  },
  {
   "cell_type": "markdown",
   "metadata": {},
   "source": [
    "------------\n",
    "\n",
    "#### Problem 2:\n",
    "\n",
    "Create a function `scale(S, k)` that scales the points in the input set $S$ by a factor of $k$:\n",
    "\n",
    "1. INPUT: \n",
    "    * `S` - set S\n",
    "    * `k` - positive float, if negative or zero factor is given then the function raises a ValueError with message, \"ERROR: Scaling factor must be a positive float\".\n",
    "2. OUT:\n",
    "    * `T` - set T consisting of points in S scaled by $k$ and rotated by $\\theta$"
   ]
  },
  {
   "cell_type": "code",
   "execution_count": 8,
   "metadata": {},
   "outputs": [],
   "source": [
    "def scale(S, k):\n",
    "    if k <= 0 : raise ValueError\n",
    "    T = set()\n",
    "    for i in S:\n",
    "        i = i*k\n",
    "        T.add(i)\n",
    "    return T"
   ]
  },
  {
   "cell_type": "code",
   "execution_count": 9,
   "metadata": {},
   "outputs": [
    {
     "ename": "NameError",
     "evalue": "name 'T1' is not defined",
     "output_type": "error",
     "traceback": [
      "\u001b[1;31m---------------------------------------------------------------------------\u001b[0m",
      "\u001b[1;31mNameError\u001b[0m                                 Traceback (most recent call last)",
      "\u001b[1;32m~\\AppData\\Local\\Temp/ipykernel_9384/1196513984.py\u001b[0m in \u001b[0;36m<module>\u001b[1;34m\u001b[0m\n\u001b[0;32m      2\u001b[0m \u001b[0mTESTER\u001b[0m \u001b[0mCELL\u001b[0m \u001b[0mFOR\u001b[0m \u001b[0mscale\u001b[0m\u001b[1;33m(\u001b[0m\u001b[1;33m)\u001b[0m\u001b[1;33m\u001b[0m\u001b[1;33m\u001b[0m\u001b[0m\n\u001b[0;32m      3\u001b[0m \"\"\"\n\u001b[1;32m----> 4\u001b[1;33m \u001b[0msets\u001b[0m \u001b[1;33m=\u001b[0m \u001b[1;33m[\u001b[0m\u001b[0mS\u001b[0m\u001b[1;33m,\u001b[0m \u001b[0mT1\u001b[0m\u001b[1;33m,\u001b[0m \u001b[0mT2\u001b[0m\u001b[1;33m,\u001b[0m \u001b[0mT3\u001b[0m\u001b[1;33m,\u001b[0m \u001b[0mT4\u001b[0m\u001b[1;33m]\u001b[0m\u001b[1;33m\u001b[0m\u001b[1;33m\u001b[0m\u001b[0m\n\u001b[0m\u001b[0;32m      5\u001b[0m \u001b[0mscaled_sets\u001b[0m \u001b[1;33m=\u001b[0m \u001b[1;33m[\u001b[0m\u001b[0mscale\u001b[0m\u001b[1;33m(\u001b[0m\u001b[0mA\u001b[0m\u001b[1;33m,\u001b[0m \u001b[1;36m2\u001b[0m\u001b[1;33m)\u001b[0m \u001b[1;32mfor\u001b[0m \u001b[0mA\u001b[0m \u001b[1;32min\u001b[0m \u001b[0msets\u001b[0m\u001b[1;33m]\u001b[0m\u001b[1;33m\u001b[0m\u001b[1;33m\u001b[0m\u001b[0m\n\u001b[0;32m      6\u001b[0m \u001b[1;32mfor\u001b[0m \u001b[0mi\u001b[0m \u001b[1;32min\u001b[0m \u001b[0mrange\u001b[0m\u001b[1;33m(\u001b[0m\u001b[0mlen\u001b[0m\u001b[1;33m(\u001b[0m\u001b[0mscaled_sets\u001b[0m\u001b[1;33m)\u001b[0m\u001b[1;33m)\u001b[0m\u001b[1;33m:\u001b[0m\u001b[1;33m\u001b[0m\u001b[1;33m\u001b[0m\u001b[0m\n",
      "\u001b[1;31mNameError\u001b[0m: name 'T1' is not defined"
     ]
    }
   ],
   "source": [
    "\"\"\"\n",
    "TESTER CELL FOR scale()\n",
    "\"\"\"\n",
    "sets = [S, T1, T2, T3, T4]\n",
    "scaled_sets = [scale(A, 2) for A in sets]\n",
    "for i in range(len(scaled_sets)):\n",
    "    print(\"Original Set:\", sets[i])\n",
    "    print(\"After Scaling by 2:\", scaled_sets[i], \"\\n\")\n",
    "\n",
    "plot([(S, 'black')], 10, title = \"Original Values\")\n",
    "plot_data = list(zip(scaled_sets, ['black', 'red', 'green', 'orange', 'blue']))\n",
    "plot(plot_data, 10, title = \"Scaled by 2\") #second parameter affects window size\n"
   ]
  },
  {
   "cell_type": "code",
   "execution_count": null,
   "metadata": {},
   "outputs": [],
   "source": [
    "\"\"\"\n",
    "TESTER CELL FOR scale()\n",
    "\"\"\"\n",
    "img = image.file2image('img01.png')\n",
    "gray_img = image.color2gray(img)\n",
    "complex_img = image.gray2complex(gray_img)\n",
    "scaled_img = scale(complex_img, 1.5)\n",
    "plot([(complex_img, 'black')], 200, title = \"Original Image\")\n",
    "plot([(scaled_img, 'black')], 200, title = \"Image Scaled 1.5x\")"
   ]
  },
  {
   "cell_type": "markdown",
   "metadata": {},
   "source": [
    "-----------------------------------\n",
    "\n",
    "#### Problem 3:\n",
    "\n",
    "Create a function `rotate(S, theta)` that rotates the points in the input set $S$ by $\\theta$ radians:\n",
    "\n",
    "1. INPUT: \n",
    "    * `S` - set S\n",
    "    * `theta` - float. If negative, the rotation is clockwise. If positive the rotation is counterclockwise. If zero, no rotation.\n",
    "2. OUT:\n",
    "    * `T` - set T consisting of points in S rotated by $\\theta$"
   ]
  },
  {
   "cell_type": "code",
   "execution_count": null,
   "metadata": {},
   "outputs": [],
   "source": [
    "def rotate(S, theta):\n",
    "    T = set()\n",
    "    for i in S:\n",
    "        i = i*math.e**(1j*theta)\n",
    "        T.add(i)\n",
    "    return T"
   ]
  },
  {
   "cell_type": "code",
   "execution_count": null,
   "metadata": {},
   "outputs": [],
   "source": [
    "\"\"\"\n",
    "TESTER CELL FOR rotate()\n",
    "\"\"\"\n",
    "rotated_sets = [rotate(A, math.pi/2) for A in sets]\n",
    "for i in range(len(rotated_sets)):\n",
    "    print(\"Original Set:\", sets[i])\n",
    "    print(\"After Scaling by 2:\", rotated_sets[i], \"\\n\")\n",
    "\n",
    "plot_data_rot = list(zip(rotated_sets, ['black', 'red', 'green', 'orange', 'blue']))\n",
    "plot(plot_data_rot, 10, title = \"Rotated by 90 degrees\") #second parameter affects window size\n",
    "\n",
    "rotated_sets_2 = [rotate(A, -1*math.pi/2) for A in sets]\n",
    "for i in range(len(rotated_sets_2)):\n",
    "    print(\"Original Set:\", sets[i])\n",
    "    print(\"After Scaling by 2:\", rotated_sets_2[i], \"\\n\")\n",
    "    \n",
    "\n",
    "plot([(S, 'black'), (T1, 'red'), (T2, 'green'), (T3, 'orange'), (T4, 'blue')], 10, title = \"Original Values\")\n",
    "\n",
    "plot_data_rot_2 = list(zip(rotated_sets_2, ['black', 'red', 'green', 'orange', 'blue']))\n",
    "plot(plot_data_rot_2, 10, title = \"Rotated by -90 degrees\") #second parameter affects window size\n"
   ]
  },
  {
   "cell_type": "code",
   "execution_count": null,
   "metadata": {},
   "outputs": [],
   "source": [
    "\"\"\"\n",
    "TESTER CELL FOR rotate()\n",
    "\"\"\"\n",
    "img = image.file2image('img01.png')\n",
    "gray_img = image.color2gray(img)\n",
    "complex_img = image.gray2complex(gray_img)\n",
    "rotated_img = rotate(complex_img, -1*math.pi/2)\n",
    "plot([(complex_img, 'black')], 200, title = \"Original Image\")\n",
    "plot([(rotated_img, 'black')], 200, title = \"Image Rotated by -90 degrees\")"
   ]
  },
  {
   "cell_type": "code",
   "execution_count": null,
   "metadata": {},
   "outputs": [],
   "source": [
    "\"\"\"\n",
    "Full image transformation = rotation + scaling + translation\n",
    "\"\"\"\n",
    "img = image.file2image('img01.png')\n",
    "gray_img = image.color2gray(img)\n",
    "complex_img = image.gray2complex(gray_img)\n",
    "\n",
    "rotated_img = rotate(complex_img, -1*math.pi/2)\n",
    "scaled_img = scale(rotated_img, 1.5)\n",
    "translated_img = translate(scaled_img, -125 + 150j)\n",
    "\n",
    "plot([(complex_img, 'black')], 200, title = \"Original Image\")\n",
    "plot([(translated_img, 'black')], 200, title = \"Transformed Image\")"
   ]
  },
  {
   "cell_type": "markdown",
   "metadata": {},
   "source": [
    "--------------------\n",
    "#### Problem 4:\n",
    "\n",
    "Finish the implementation of class `Vec` which instantiates row-vector objects with defined operations of addition, subtraction, scalar multiplication, and dot product.  In addition, `Vec` class overloads the Python built-in function `abs()` so that when it is called on a `Vec` object, it returns the Euclidean norm of the vector.\n",
    "\n",
    "\n"
   ]
  },
  {
   "cell_type": "code",
   "execution_count": 3,
   "metadata": {},
   "outputs": [],
   "source": [
    "class Vec:\n",
    "    def __init__(self, contents = []):\n",
    "       self.elements = contents\n",
    "\n",
    "    def __abs__(self):\n",
    "        v = 0\n",
    "        for i in self.elements:\n",
    "            v += i**2\n",
    "        return (math.sqrt(v))\n",
    "\n",
    "    def __add__(self, other):\n",
    "        #return Vec(self.elements + other)\n",
    "        if(len(self.elements) == len(other.elements)):\n",
    "            T = [None]*len(self.elements)\n",
    "            for i in range(0,len(self.elements)):\n",
    "                T[i] = self.elements[i] + other.elements[i]\n",
    "        else:\n",
    "            raise ValueError\n",
    "        return Vec(T)\n",
    "    def __sub__(self, other):\n",
    "        if(len(self.elements) == len(other.elements)):\n",
    "            T = [None]*len(self.elements)\n",
    "            for i in range(0,len(self.elements)):\n",
    "                T[i] = self.elements[i] - other.elements[i]\n",
    "        else:\n",
    "            raise ValueError\n",
    "        return Vec(T)\n",
    "\n",
    "    def __mul__(self, other):\n",
    "        if type(other) == Vec:\n",
    "            m = 0\n",
    "            if(len(self.elements) == len(other.elements)):\n",
    "                for i in range(0,len(self.elements)):\n",
    "                    m += self.elements[i] * other.elements[i]\n",
    "                return m\n",
    "            else:\n",
    "                raise ValueError        \n",
    "        elif type(other) == float or type(other) == int:\n",
    "            m = [None]*len(self.elements)\n",
    "            for i in range(0,len(self.elements)):\n",
    "                m[i] = self.elements[i]*other\n",
    "        return Vec(m)\n",
    "\n",
    "    def __rmul__(self, other):\n",
    "        m = [None]*len(self.elements)\n",
    "        for i in range(0,len(self.elements)):\n",
    "            m[i] = self.elements[i]*other\n",
    "        return Vec(m)\n",
    "\n",
    "    def __str__(self):\n",
    "\n",
    "        return str(self.elements)"
   ]
  },
  {
   "cell_type": "code",
   "execution_count": null,
   "metadata": {},
   "outputs": [],
   "source": [
    "\"\"\"----------------------TESTER CELL----------------------\"\"\"\n",
    "\n",
    "u = Vec([1, 2, 3])\n",
    "w = Vec([0, 1, -1])\n",
    "v = Vec([0, -3])\n",
    "print(\"u = \", u)\n",
    "print(\"w = \", w)\n",
    "print(\"Euclidean norm of u:\", abs(u))\n",
    "print(\"Expected:\", math.sqrt(sum([ui**2 for ui in u.elements])))\n",
    "print(\"Euclidean norm of u:\", abs(v))\n",
    "print(\"Expected: 3\")\n",
    "print(\"\\nu left scalar multiplication by 2:\", 2*u)\n",
    "print(\"Expected: [2, 4, 6]\")\n",
    "print(\"\\nw right scalar multiplication by -1:\", w * -1.2)\n",
    "print(\"Expected: [0, -1, 1]\")\n",
    "print(\"\\nVector addition:\", u + w)\n",
    "print(\"Expected: [1, 3, 2]\")\n",
    "print(\"\\nVector addition:\", u - w)\n",
    "print(\"Expected: [1, 1, 4]\")\n",
    "print(\"\\nDot product:\", w*u)\n",
    "print(\"Expected: -1\")\n",
    "\n",
    "\n",
    "try:\n",
    "    print(\"\\nDot product:\", v*u)\n",
    "    print(\"If this line prints, you forgot to raise a ValueError for taking the dot product of vectors of different lengths\")\n",
    "except:\n",
    "    print(\"If this line prints, an error was correctly raised.\")"
   ]
  }
 ],
 "metadata": {
  "anaconda-cloud": {},
  "kernelspec": {
   "display_name": "Python 3 (ipykernel)",
   "language": "python",
   "name": "python3"
  },
  "language_info": {
   "codemirror_mode": {
    "name": "ipython",
    "version": 3
   },
   "file_extension": ".py",
   "mimetype": "text/x-python",
   "name": "python",
   "nbconvert_exporter": "python",
   "pygments_lexer": "ipython3",
   "version": "3.9.7"
  }
 },
 "nbformat": 4,
 "nbformat_minor": 1
}
